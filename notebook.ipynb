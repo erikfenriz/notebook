{
 "cells": [
  {
   "cell_type": "markdown",
   "id": "6c67e0d8-748f-4ce9-92b4-2293d37f5980",
   "metadata": {},
   "source": [
    "# Notebook"
   ]
  },
  {
   "cell_type": "markdown",
   "id": "adc3bc88-b13e-4165-bbfd-a1ac66a650dc",
   "metadata": {},
   "source": [
    "This is an introductory markdown cell"
   ]
  },
  {
   "cell_type": "markdown",
   "id": "03c7a90d-5073-465f-82c4-1d31ea5627c9",
   "metadata": {},
   "source": [
    "The most popular programming languages used in data science are:\n",
    "\n",
    "1. Python\n",
    "2. R\n",
    "3. SQL\n",
    "4. Julia\n",
    "5. Scala"
   ]
  },
  {
   "cell_type": "markdown",
   "id": "94457158-4ed0-4dae-95db-bddaaeec9b49",
   "metadata": {},
   "source": [
    "Data science often relies on a variety of powerful libraries to perform analysis, data manipulation, and modeling. Below are some commonly used libraries:\n",
    "\n",
    "1. NumPy\n",
    "2. Pandas\n",
    "3. Matplotlib\n",
    "4. Scikit-learn\n",
    "5. TensorFlow"
   ]
  },
  {
   "cell_type": "markdown",
   "id": "3192f284-5c5e-4678-95ee-669fec7ec101",
   "metadata": {},
   "source": [
    "| Tool            | Purpose                         |\n",
    "|-----------------|---------------------------------|\n",
    "| Jupyter Notebook| Interactive coding environment  |\n",
    "| Pandas          | Data manipulation and analysis  |\n",
    "| Matplotlib      | Data visualization              |\n",
    "| TensorFlow      | Machine learning and AI         |\n",
    "| Hadoop          | Big data processing             |\n"
   ]
  },
  {
   "cell_type": "markdown",
   "id": "8bb78ef3-30b2-4062-a267-543aa50c6080",
   "metadata": {},
   "source": [
    "Below are examples of simple arithmetic expressions used in programming:"
   ]
  },
  {
   "cell_type": "code",
   "execution_count": 1,
   "id": "5ef64351-138c-4c4b-84c3-5042913ad9a3",
   "metadata": {},
   "outputs": [
    {
     "data": {
      "text/plain": [
       "25"
      ]
     },
     "execution_count": 1,
     "metadata": {},
     "output_type": "execute_result"
    }
   ],
   "source": [
    "# Multiplication and addition of numbers\n",
    "result = (5 * 3) + 10\n",
    "result"
   ]
  },
  {
   "cell_type": "code",
   "execution_count": 2,
   "id": "8b743cbb-0010-4bd1-ad69-b0ee49ca2f77",
   "metadata": {},
   "outputs": [
    {
     "data": {
      "text/plain": [
       "2.5"
      ]
     },
     "execution_count": 2,
     "metadata": {},
     "output_type": "execute_result"
    }
   ],
   "source": [
    "# Convert minutes to hours\n",
    "minutes = 150\n",
    "hours = minutes / 60\n",
    "hours"
   ]
  },
  {
   "cell_type": "markdown",
   "id": "82df1ff8-db24-4369-83ab-5e80cf8a39c0",
   "metadata": {},
   "source": [
    "The objectives of this project are as follows:\n",
    "\n",
    "- Understand basic Python programming\n",
    "- Learn how to manipulate data using Pandas\n",
    "- Visualize data using Matplotlib\n",
    "- Build machine learning models"
   ]
  },
  {
   "cell_type": "markdown",
   "id": "6dac2136-5be5-42cc-bfa5-f96d7fdd8fe7",
   "metadata": {},
   "source": [
    "Author: Erik Rybalkin"
   ]
  },
  {
   "cell_type": "code",
   "execution_count": null,
   "id": "fc56938a-3ecc-40af-8ec6-1934eb18a2ee",
   "metadata": {},
   "outputs": [],
   "source": []
  }
 ],
 "metadata": {
  "kernelspec": {
   "display_name": "Python 3 (ipykernel)",
   "language": "python",
   "name": "python3"
  },
  "language_info": {
   "codemirror_mode": {
    "name": "ipython",
    "version": 3
   },
   "file_extension": ".py",
   "mimetype": "text/x-python",
   "name": "python",
   "nbconvert_exporter": "python",
   "pygments_lexer": "ipython3",
   "version": "3.11.9"
  }
 },
 "nbformat": 4,
 "nbformat_minor": 5
}
